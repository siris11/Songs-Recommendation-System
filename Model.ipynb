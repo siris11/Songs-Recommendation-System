{
 "cells": [
  {
   "cell_type": "code",
   "execution_count": 1,
   "id": "a464bc5c",
   "metadata": {},
   "outputs": [],
   "source": [
    "import pandas as pd"
   ]
  },
  {
   "cell_type": "code",
   "execution_count": 2,
   "id": "534248a6",
   "metadata": {},
   "outputs": [
    {
     "name": "stdout",
     "output_type": "stream",
     "text": [
      "Defaulting to user installation because normal site-packages is not writeable\n",
      "Requirement already satisfied: pandas in c:\\users\\siris\\appdata\\local\\packages\\pythonsoftwarefoundation.python.3.12_qbz5n2kfra8p0\\localcache\\local-packages\\python312\\site-packages (2.1.1)\n",
      "Requirement already satisfied: numpy>=1.26.0 in c:\\users\\siris\\appdata\\local\\packages\\pythonsoftwarefoundation.python.3.12_qbz5n2kfra8p0\\localcache\\local-packages\\python312\\site-packages (from pandas) (1.26.2)\n",
      "Requirement already satisfied: python-dateutil>=2.8.2 in c:\\users\\siris\\appdata\\local\\packages\\pythonsoftwarefoundation.python.3.12_qbz5n2kfra8p0\\localcache\\local-packages\\python312\\site-packages (from pandas) (2.8.2)\n",
      "Requirement already satisfied: pytz>=2020.1 in c:\\users\\siris\\appdata\\local\\packages\\pythonsoftwarefoundation.python.3.12_qbz5n2kfra8p0\\localcache\\local-packages\\python312\\site-packages (from pandas) (2023.3.post1)\n",
      "Requirement already satisfied: tzdata>=2022.1 in c:\\users\\siris\\appdata\\local\\packages\\pythonsoftwarefoundation.python.3.12_qbz5n2kfra8p0\\localcache\\local-packages\\python312\\site-packages (from pandas) (2023.3)\n",
      "Requirement already satisfied: six>=1.5 in c:\\users\\siris\\appdata\\local\\packages\\pythonsoftwarefoundation.python.3.12_qbz5n2kfra8p0\\localcache\\local-packages\\python312\\site-packages (from python-dateutil>=2.8.2->pandas) (1.16.0)\n"
     ]
    },
    {
     "name": "stderr",
     "output_type": "stream",
     "text": [
      "\n",
      "[notice] A new release of pip is available: 23.3.2 -> 24.1.1\n",
      "[notice] To update, run: C:\\Users\\siris\\AppData\\Local\\Microsoft\\WindowsApps\\PythonSoftwareFoundation.Python.3.12_qbz5n2kfra8p0\\python.exe -m pip install --upgrade pip\n"
     ]
    }
   ],
   "source": [
    "!pip install pandas"
   ]
  },
  {
   "cell_type": "code",
   "execution_count": 3,
   "id": "479e2761",
   "metadata": {},
   "outputs": [],
   "source": [
    "data = pd.read_csv('spotify_millsongdata.csv')"
   ]
  },
  {
   "cell_type": "code",
   "execution_count": 4,
   "id": "809139d4",
   "metadata": {
    "scrolled": true
   },
   "outputs": [
    {
     "data": {
      "text/html": [
       "<div>\n",
       "<style scoped>\n",
       "    .dataframe tbody tr th:only-of-type {\n",
       "        vertical-align: middle;\n",
       "    }\n",
       "\n",
       "    .dataframe tbody tr th {\n",
       "        vertical-align: top;\n",
       "    }\n",
       "\n",
       "    .dataframe thead th {\n",
       "        text-align: right;\n",
       "    }\n",
       "</style>\n",
       "<table border=\"1\" class=\"dataframe\">\n",
       "  <thead>\n",
       "    <tr style=\"text-align: right;\">\n",
       "      <th></th>\n",
       "      <th>artist</th>\n",
       "      <th>song</th>\n",
       "      <th>link</th>\n",
       "      <th>text</th>\n",
       "    </tr>\n",
       "  </thead>\n",
       "  <tbody>\n",
       "    <tr>\n",
       "      <th>0</th>\n",
       "      <td>ABBA</td>\n",
       "      <td>Ahe's My Kind Of Girl</td>\n",
       "      <td>/a/abba/ahes+my+kind+of+girl_20598417.html</td>\n",
       "      <td>Look at her face, it's a wonderful face  \\r\\nA...</td>\n",
       "    </tr>\n",
       "    <tr>\n",
       "      <th>1</th>\n",
       "      <td>ABBA</td>\n",
       "      <td>Andante, Andante</td>\n",
       "      <td>/a/abba/andante+andante_20002708.html</td>\n",
       "      <td>Take it easy with me, please  \\r\\nTouch me gen...</td>\n",
       "    </tr>\n",
       "    <tr>\n",
       "      <th>2</th>\n",
       "      <td>ABBA</td>\n",
       "      <td>As Good As New</td>\n",
       "      <td>/a/abba/as+good+as+new_20003033.html</td>\n",
       "      <td>I'll never know why I had to go  \\r\\nWhy I had...</td>\n",
       "    </tr>\n",
       "    <tr>\n",
       "      <th>3</th>\n",
       "      <td>ABBA</td>\n",
       "      <td>Bang</td>\n",
       "      <td>/a/abba/bang_20598415.html</td>\n",
       "      <td>Making somebody happy is a question of give an...</td>\n",
       "    </tr>\n",
       "    <tr>\n",
       "      <th>4</th>\n",
       "      <td>ABBA</td>\n",
       "      <td>Bang-A-Boomerang</td>\n",
       "      <td>/a/abba/bang+a+boomerang_20002668.html</td>\n",
       "      <td>Making somebody happy is a question of give an...</td>\n",
       "    </tr>\n",
       "    <tr>\n",
       "      <th>...</th>\n",
       "      <td>...</td>\n",
       "      <td>...</td>\n",
       "      <td>...</td>\n",
       "      <td>...</td>\n",
       "    </tr>\n",
       "    <tr>\n",
       "      <th>57645</th>\n",
       "      <td>Ziggy Marley</td>\n",
       "      <td>Good Old Days</td>\n",
       "      <td>/z/ziggy+marley/good+old+days_10198588.html</td>\n",
       "      <td>Irie days come on play  \\r\\nLet the angels fly...</td>\n",
       "    </tr>\n",
       "    <tr>\n",
       "      <th>57646</th>\n",
       "      <td>Ziggy Marley</td>\n",
       "      <td>Hand To Mouth</td>\n",
       "      <td>/z/ziggy+marley/hand+to+mouth_20531167.html</td>\n",
       "      <td>Power to the workers  \\r\\nMore power  \\r\\nPowe...</td>\n",
       "    </tr>\n",
       "    <tr>\n",
       "      <th>57647</th>\n",
       "      <td>Zwan</td>\n",
       "      <td>Come With Me</td>\n",
       "      <td>/z/zwan/come+with+me_20148981.html</td>\n",
       "      <td>all you need  \\r\\nis something i'll believe  \\...</td>\n",
       "    </tr>\n",
       "    <tr>\n",
       "      <th>57648</th>\n",
       "      <td>Zwan</td>\n",
       "      <td>Desire</td>\n",
       "      <td>/z/zwan/desire_20148986.html</td>\n",
       "      <td>northern star  \\r\\nam i frightened  \\r\\nwhere ...</td>\n",
       "    </tr>\n",
       "    <tr>\n",
       "      <th>57649</th>\n",
       "      <td>Zwan</td>\n",
       "      <td>Heartsong</td>\n",
       "      <td>/z/zwan/heartsong_20148991.html</td>\n",
       "      <td>come in  \\r\\nmake yourself at home  \\r\\ni'm a ...</td>\n",
       "    </tr>\n",
       "  </tbody>\n",
       "</table>\n",
       "<p>57650 rows × 4 columns</p>\n",
       "</div>"
      ],
      "text/plain": [
       "             artist                   song  \\\n",
       "0              ABBA  Ahe's My Kind Of Girl   \n",
       "1              ABBA       Andante, Andante   \n",
       "2              ABBA         As Good As New   \n",
       "3              ABBA                   Bang   \n",
       "4              ABBA       Bang-A-Boomerang   \n",
       "...             ...                    ...   \n",
       "57645  Ziggy Marley          Good Old Days   \n",
       "57646  Ziggy Marley          Hand To Mouth   \n",
       "57647          Zwan           Come With Me   \n",
       "57648          Zwan                 Desire   \n",
       "57649          Zwan              Heartsong   \n",
       "\n",
       "                                              link  \\\n",
       "0       /a/abba/ahes+my+kind+of+girl_20598417.html   \n",
       "1            /a/abba/andante+andante_20002708.html   \n",
       "2             /a/abba/as+good+as+new_20003033.html   \n",
       "3                       /a/abba/bang_20598415.html   \n",
       "4           /a/abba/bang+a+boomerang_20002668.html   \n",
       "...                                            ...   \n",
       "57645  /z/ziggy+marley/good+old+days_10198588.html   \n",
       "57646  /z/ziggy+marley/hand+to+mouth_20531167.html   \n",
       "57647           /z/zwan/come+with+me_20148981.html   \n",
       "57648                 /z/zwan/desire_20148986.html   \n",
       "57649              /z/zwan/heartsong_20148991.html   \n",
       "\n",
       "                                                    text  \n",
       "0      Look at her face, it's a wonderful face  \\r\\nA...  \n",
       "1      Take it easy with me, please  \\r\\nTouch me gen...  \n",
       "2      I'll never know why I had to go  \\r\\nWhy I had...  \n",
       "3      Making somebody happy is a question of give an...  \n",
       "4      Making somebody happy is a question of give an...  \n",
       "...                                                  ...  \n",
       "57645  Irie days come on play  \\r\\nLet the angels fly...  \n",
       "57646  Power to the workers  \\r\\nMore power  \\r\\nPowe...  \n",
       "57647  all you need  \\r\\nis something i'll believe  \\...  \n",
       "57648  northern star  \\r\\nam i frightened  \\r\\nwhere ...  \n",
       "57649  come in  \\r\\nmake yourself at home  \\r\\ni'm a ...  \n",
       "\n",
       "[57650 rows x 4 columns]"
      ]
     },
     "execution_count": 4,
     "metadata": {},
     "output_type": "execute_result"
    }
   ],
   "source": [
    "data"
   ]
  },
  {
   "cell_type": "code",
   "execution_count": 5,
   "id": "9e2f88f4",
   "metadata": {},
   "outputs": [
    {
     "data": {
      "text/plain": [
       "(57650, 4)"
      ]
     },
     "execution_count": 5,
     "metadata": {},
     "output_type": "execute_result"
    }
   ],
   "source": [
    "data.shape"
   ]
  },
  {
   "cell_type": "code",
   "execution_count": 6,
   "id": "e1a10b87",
   "metadata": {},
   "outputs": [
    {
     "data": {
      "text/plain": [
       "artist    0\n",
       "song      0\n",
       "link      0\n",
       "text      0\n",
       "dtype: int64"
      ]
     },
     "execution_count": 6,
     "metadata": {},
     "output_type": "execute_result"
    }
   ],
   "source": [
    "data.isnull().sum()"
   ]
  },
  {
   "cell_type": "code",
   "execution_count": 7,
   "id": "4cd4b6eb",
   "metadata": {},
   "outputs": [],
   "source": [
    "data=data.sample(6500).drop('link',axis=1).reset_index(drop=True)"
   ]
  },
  {
   "cell_type": "code",
   "execution_count": 8,
   "id": "c4ea77a6",
   "metadata": {},
   "outputs": [
    {
     "data": {
      "text/plain": [
       "\"Nothing to show beyond the fear I had  \\r\\nBody so warm within his perfumed bed  \\r\\nSleeping alone, the shadow of a man  \\r\\nHe will entice you too, and if he can  \\r\\nNothing to show for love has never been  \\r\\nNothing to show for love has never been  \\r\\nNothing to show for love has never been  \\r\\n  \\r\\nNothing is handed, power is changing fast  \\r\\nMany the empty hopes his lips caress  \\r\\nSorry to say his days are spent in vain  \\r\\nChasing a dream of doom of nights in pain  \\r\\nNothing to show for love has never been  \\r\\nNothing to show for love has never been  \\r\\nNothing to show for love has never been  \\r\\n  \\r\\nShadowy nights of memories of the grave  \\r\\nGentle my love and sweetness sometimes sick  \\r\\nKeep up his time while his crimes are known  \\r\\nOnly a fool can see he's sold his love  \\r\\nNothing to show for love has never been  \\r\\nNothing to show for love has never been  \\r\\nNothing to show for love has never been  \\r\\n  \\r\\nNothing to show for love has never been  \\r\\nNothing to show for love has never been  \\r\\nNothing to show for love has never been\\r\\n\\r\\n\""
      ]
     },
     "execution_count": 8,
     "metadata": {},
     "output_type": "execute_result"
    }
   ],
   "source": [
    "data['text'][0]"
   ]
  },
  {
   "cell_type": "code",
   "execution_count": 9,
   "id": "6599dab1",
   "metadata": {},
   "outputs": [],
   "source": [
    "import re\n",
    "data['text']=data['text'].str.lower().replace(r'^a-zA-Z0-9','').replace(r'\\n',' ',regex=True)\n"
   ]
  },
  {
   "cell_type": "markdown",
   "id": "285d40b2",
   "metadata": {},
   "source": [
    "## Text cleaning"
   ]
  },
  {
   "cell_type": "code",
   "execution_count": 10,
   "id": "9ff45d3a",
   "metadata": {},
   "outputs": [
    {
     "name": "stdout",
     "output_type": "stream",
     "text": [
      "Defaulting to user installation because normal site-packages is not writeable\n",
      "Requirement already satisfied: nltk in c:\\users\\siris\\appdata\\local\\packages\\pythonsoftwarefoundation.python.3.12_qbz5n2kfra8p0\\localcache\\local-packages\\python312\\site-packages (3.8.1)\n",
      "Requirement already satisfied: click in c:\\users\\siris\\appdata\\local\\packages\\pythonsoftwarefoundation.python.3.12_qbz5n2kfra8p0\\localcache\\local-packages\\python312\\site-packages (from nltk) (8.1.7)\n",
      "Requirement already satisfied: joblib in c:\\users\\siris\\appdata\\local\\packages\\pythonsoftwarefoundation.python.3.12_qbz5n2kfra8p0\\localcache\\local-packages\\python312\\site-packages (from nltk) (1.3.2)\n",
      "Requirement already satisfied: regex>=2021.8.3 in c:\\users\\siris\\appdata\\local\\packages\\pythonsoftwarefoundation.python.3.12_qbz5n2kfra8p0\\localcache\\local-packages\\python312\\site-packages (from nltk) (2024.5.15)\n",
      "Requirement already satisfied: tqdm in c:\\users\\siris\\appdata\\local\\packages\\pythonsoftwarefoundation.python.3.12_qbz5n2kfra8p0\\localcache\\local-packages\\python312\\site-packages (from nltk) (4.66.4)\n",
      "Requirement already satisfied: colorama in c:\\users\\siris\\appdata\\local\\packages\\pythonsoftwarefoundation.python.3.12_qbz5n2kfra8p0\\localcache\\local-packages\\python312\\site-packages (from click->nltk) (0.4.6)\n"
     ]
    },
    {
     "name": "stderr",
     "output_type": "stream",
     "text": [
      "\n",
      "[notice] A new release of pip is available: 23.3.2 -> 24.1.1\n",
      "[notice] To update, run: C:\\Users\\siris\\AppData\\Local\\Microsoft\\WindowsApps\\PythonSoftwareFoundation.Python.3.12_qbz5n2kfra8p0\\python.exe -m pip install --upgrade pip\n"
     ]
    }
   ],
   "source": [
    "!pip install nltk"
   ]
  },
  {
   "cell_type": "code",
   "execution_count": 11,
   "id": "42f48ab2",
   "metadata": {},
   "outputs": [
    {
     "data": {
      "text/html": [
       "<div>\n",
       "<style scoped>\n",
       "    .dataframe tbody tr th:only-of-type {\n",
       "        vertical-align: middle;\n",
       "    }\n",
       "\n",
       "    .dataframe tbody tr th {\n",
       "        vertical-align: top;\n",
       "    }\n",
       "\n",
       "    .dataframe thead th {\n",
       "        text-align: right;\n",
       "    }\n",
       "</style>\n",
       "<table border=\"1\" class=\"dataframe\">\n",
       "  <thead>\n",
       "    <tr style=\"text-align: right;\">\n",
       "      <th></th>\n",
       "      <th>artist</th>\n",
       "      <th>song</th>\n",
       "      <th>text</th>\n",
       "    </tr>\n",
       "  </thead>\n",
       "  <tbody>\n",
       "    <tr>\n",
       "      <th>5277</th>\n",
       "      <td>Gucci Mane</td>\n",
       "      <td>Round 1 (pt. 2)</td>\n",
       "      <td>chorus:  \\r the dope game hard,  \\r the rap ga...</td>\n",
       "    </tr>\n",
       "    <tr>\n",
       "      <th>3128</th>\n",
       "      <td>Maroon 5</td>\n",
       "      <td>The Man Who Never Lied</td>\n",
       "      <td>in the middle of hollywood boulevard  \\r screa...</td>\n",
       "    </tr>\n",
       "    <tr>\n",
       "      <th>2791</th>\n",
       "      <td>Madonna</td>\n",
       "      <td>Now I'm Following You</td>\n",
       "      <td>lets dance, you can do a little two-step  \\r i...</td>\n",
       "    </tr>\n",
       "    <tr>\n",
       "      <th>4543</th>\n",
       "      <td>Nina Simone</td>\n",
       "      <td>Black Is The Color Of My True Love's Hair</td>\n",
       "      <td>black is the color of my true love's hair  \\r ...</td>\n",
       "    </tr>\n",
       "    <tr>\n",
       "      <th>1046</th>\n",
       "      <td>Waylon Jennings</td>\n",
       "      <td>How Long Have You Been There</td>\n",
       "      <td>i've been walking in the shadows for so long t...</td>\n",
       "    </tr>\n",
       "    <tr>\n",
       "      <th>4750</th>\n",
       "      <td>Poison</td>\n",
       "      <td>Let It Play</td>\n",
       "      <td>did you ever get up on the wrong side of bed  ...</td>\n",
       "    </tr>\n",
       "    <tr>\n",
       "      <th>3690</th>\n",
       "      <td>Carly Simon</td>\n",
       "      <td>As Time Goes By</td>\n",
       "      <td>you must remember this  \\r a kiss is still a k...</td>\n",
       "    </tr>\n",
       "    <tr>\n",
       "      <th>5037</th>\n",
       "      <td>Utopia</td>\n",
       "      <td>There Goes My Inspiration</td>\n",
       "      <td>they say pain can bring out the artist's best ...</td>\n",
       "    </tr>\n",
       "    <tr>\n",
       "      <th>1947</th>\n",
       "      <td>Rammstein</td>\n",
       "      <td>Tier (englisch)</td>\n",
       "      <td>what does a man do  \\r what does a man do  \\r ...</td>\n",
       "    </tr>\n",
       "    <tr>\n",
       "      <th>3712</th>\n",
       "      <td>Electric Light Orchestra</td>\n",
       "      <td>Down Home Town</td>\n",
       "      <td>the world outside don't like us much,  \\r 'cau...</td>\n",
       "    </tr>\n",
       "  </tbody>\n",
       "</table>\n",
       "</div>"
      ],
      "text/plain": [
       "                        artist                                       song  \\\n",
       "5277                Gucci Mane                            Round 1 (pt. 2)   \n",
       "3128                  Maroon 5                     The Man Who Never Lied   \n",
       "2791                   Madonna                      Now I'm Following You   \n",
       "4543               Nina Simone  Black Is The Color Of My True Love's Hair   \n",
       "1046           Waylon Jennings               How Long Have You Been There   \n",
       "4750                    Poison                                Let It Play   \n",
       "3690               Carly Simon                            As Time Goes By   \n",
       "5037                    Utopia                  There Goes My Inspiration   \n",
       "1947                 Rammstein                            Tier (englisch)   \n",
       "3712  Electric Light Orchestra                             Down Home Town   \n",
       "\n",
       "                                                   text  \n",
       "5277  chorus:  \\r the dope game hard,  \\r the rap ga...  \n",
       "3128  in the middle of hollywood boulevard  \\r screa...  \n",
       "2791  lets dance, you can do a little two-step  \\r i...  \n",
       "4543  black is the color of my true love's hair  \\r ...  \n",
       "1046  i've been walking in the shadows for so long t...  \n",
       "4750  did you ever get up on the wrong side of bed  ...  \n",
       "3690  you must remember this  \\r a kiss is still a k...  \n",
       "5037  they say pain can bring out the artist's best ...  \n",
       "1947  what does a man do  \\r what does a man do  \\r ...  \n",
       "3712  the world outside don't like us much,  \\r 'cau...  "
      ]
     },
     "execution_count": 11,
     "metadata": {},
     "output_type": "execute_result"
    }
   ],
   "source": [
    "data.sample(10)"
   ]
  },
  {
   "cell_type": "code",
   "execution_count": 12,
   "id": "3bc1c5ac",
   "metadata": {},
   "outputs": [],
   "source": [
    "import nltk\n",
    "from nltk.corpus import stopwords\n",
    "from nltk.stem import PorterStemmer"
   ]
  },
  {
   "cell_type": "code",
   "execution_count": 13,
   "id": "fd31e8e3",
   "metadata": {},
   "outputs": [
    {
     "name": "stderr",
     "output_type": "stream",
     "text": [
      "[nltk_data] Downloading package punkt to\n",
      "[nltk_data]     C:\\Users\\siris\\AppData\\Roaming\\nltk_data...\n",
      "[nltk_data]   Package punkt is already up-to-date!\n"
     ]
    },
    {
     "data": {
      "text/plain": [
       "True"
      ]
     },
     "execution_count": 13,
     "metadata": {},
     "output_type": "execute_result"
    }
   ],
   "source": [
    "import nltk\n",
    "nltk.download('punkt')\n"
   ]
  },
  {
   "cell_type": "code",
   "execution_count": 14,
   "id": "91ddf78b",
   "metadata": {},
   "outputs": [],
   "source": [
    "ps = PorterStemmer()\n",
    "\n",
    "def token(txt):\n",
    "    token = nltk.word_tokenize(txt)\n",
    "    a = [ps.stem(word) for word in token]\n",
    "    return \" \".join(a)"
   ]
  },
  {
   "cell_type": "code",
   "execution_count": 15,
   "id": "f133e239",
   "metadata": {},
   "outputs": [],
   "source": [
    "data['text'] = data['text'].apply(lambda x: token(x))"
   ]
  },
  {
   "cell_type": "code",
   "execution_count": 16,
   "id": "e9802435",
   "metadata": {},
   "outputs": [
    {
     "data": {
      "text/plain": [
       "1890    goodby , sad , goodby , goodby , i do n't need...\n",
       "3260    wind is blowin ' 'round the cabin i hate to he...\n",
       "3463    hey what 'chu tryin ' to do whi you tryin ' to...\n",
       "2707    hang a pictur up on your wall tighten all the ...\n",
       "5363    yeah , c'mon when the music 's over when the m...\n",
       "4029    everybodi , everybodi , everybodi but me every...\n",
       "5795    frank zappa ( lead vocal ) ray white ( backgro...\n",
       "6253    oh whi in thi world must we work life like a d...\n",
       "5721    i never knew the charm of spring i never met i...\n",
       "5983    we get some rule to follow that and thi these ...\n",
       "Name: text, dtype: object"
      ]
     },
     "execution_count": 16,
     "metadata": {},
     "output_type": "execute_result"
    }
   ],
   "source": [
    "data['text'].sample(10)"
   ]
  },
  {
   "cell_type": "code",
   "execution_count": 17,
   "id": "d6a9d63d",
   "metadata": {},
   "outputs": [],
   "source": [
    "from sklearn.feature_extraction.text import TfidfVectorizer\n",
    "from sklearn.metrics.pairwise import cosine_similarity\n",
    "\n",
    "tf = TfidfVectorizer(analyzer='word',stop_words='english')\n",
    "X = tf.fit_transform(data['text'])\n",
    "similarity = cosine_similarity(X)"
   ]
  },
  {
   "cell_type": "code",
   "execution_count": 18,
   "id": "37050b96",
   "metadata": {},
   "outputs": [
    {
     "data": {
      "text/plain": [
       "array([[1.        , 0.02240717, 0.07818825, ..., 0.01964344, 0.02695917,\n",
       "        0.        ],\n",
       "       [0.02240717, 1.        , 0.10434885, ..., 0.09732463, 0.04442104,\n",
       "        0.03243229],\n",
       "       [0.07818825, 0.10434885, 1.        , ..., 0.05926808, 0.04574387,\n",
       "        0.04044208],\n",
       "       ...,\n",
       "       [0.01964344, 0.09732463, 0.05926808, ..., 1.        , 0.11038956,\n",
       "        0.00372871],\n",
       "       [0.02695917, 0.04442104, 0.04574387, ..., 0.11038956, 1.        ,\n",
       "        0.04036922],\n",
       "       [0.        , 0.03243229, 0.04044208, ..., 0.00372871, 0.04036922,\n",
       "        1.        ]])"
      ]
     },
     "execution_count": 18,
     "metadata": {},
     "output_type": "execute_result"
    }
   ],
   "source": [
    "similarity"
   ]
  },
  {
   "cell_type": "markdown",
   "id": "8654107a",
   "metadata": {},
   "source": [
    "#### Recommender system"
   ]
  },
  {
   "cell_type": "code",
   "execution_count": 19,
   "id": "d4de87cc",
   "metadata": {},
   "outputs": [],
   "source": [
    "def recommed(song_name):\n",
    "    idx = data[data['song']==song_name].index[0]\n",
    "    dist = sorted(list(enumerate(similarity[idx])),reverse=True,key=lambda x:x[1])\n",
    "    song = []\n",
    "    for song_id in dist[1:6]:\n",
    "        song.append(data.iloc[song_id[0]].song)\n",
    "    return song"
   ]
  },
  {
   "cell_type": "code",
   "execution_count": 20,
   "id": "c7e14c3b",
   "metadata": {},
   "outputs": [
    {
     "data": {
      "text/html": [
       "<div>\n",
       "<style scoped>\n",
       "    .dataframe tbody tr th:only-of-type {\n",
       "        vertical-align: middle;\n",
       "    }\n",
       "\n",
       "    .dataframe tbody tr th {\n",
       "        vertical-align: top;\n",
       "    }\n",
       "\n",
       "    .dataframe thead th {\n",
       "        text-align: right;\n",
       "    }\n",
       "</style>\n",
       "<table border=\"1\" class=\"dataframe\">\n",
       "  <thead>\n",
       "    <tr style=\"text-align: right;\">\n",
       "      <th></th>\n",
       "      <th>artist</th>\n",
       "      <th>song</th>\n",
       "      <th>text</th>\n",
       "    </tr>\n",
       "  </thead>\n",
       "  <tbody>\n",
       "    <tr>\n",
       "      <th>4886</th>\n",
       "      <td>Moody Blues</td>\n",
       "      <td>House Of Four Doors (Part 2)</td>\n",
       "      <td>walk thru that door outsid we came nowher at a...</td>\n",
       "    </tr>\n",
       "    <tr>\n",
       "      <th>2203</th>\n",
       "      <td>Grateful Dead</td>\n",
       "      <td>Revolution</td>\n",
       "      <td>you say you want a revolut , well you know , w...</td>\n",
       "    </tr>\n",
       "    <tr>\n",
       "      <th>4223</th>\n",
       "      <td>Van Morrison</td>\n",
       "      <td>Enlightenment</td>\n",
       "      <td>chop that wood carri water what 's the sound o...</td>\n",
       "    </tr>\n",
       "    <tr>\n",
       "      <th>445</th>\n",
       "      <td>Nat King Cole</td>\n",
       "      <td>Night Lights</td>\n",
       "      <td>night light , those blues-in-the-night light a...</td>\n",
       "    </tr>\n",
       "    <tr>\n",
       "      <th>4955</th>\n",
       "      <td>Ween</td>\n",
       "      <td>Cold Blows The Wind</td>\n",
       "      <td>cold blow the wind over my true love cold blow...</td>\n",
       "    </tr>\n",
       "    <tr>\n",
       "      <th>3462</th>\n",
       "      <td>Marilyn Manson</td>\n",
       "      <td>Unkillable Monster</td>\n",
       "      <td>how the fuck are we suppos to know when i 'm a...</td>\n",
       "    </tr>\n",
       "    <tr>\n",
       "      <th>5187</th>\n",
       "      <td>Pat Benatar</td>\n",
       "      <td>All Fired Up</td>\n",
       "      <td>livin ' with my eye close , goin ' day to day ...</td>\n",
       "    </tr>\n",
       "    <tr>\n",
       "      <th>3710</th>\n",
       "      <td>Rod Stewart</td>\n",
       "      <td>Italian Girls</td>\n",
       "      <td>at the turin motor show i wa dream of a mobil ...</td>\n",
       "    </tr>\n",
       "    <tr>\n",
       "      <th>5132</th>\n",
       "      <td>Coldplay</td>\n",
       "      <td>Charlie Brown</td>\n",
       "      <td>stole a key took a car downtown where the lost...</td>\n",
       "    </tr>\n",
       "    <tr>\n",
       "      <th>683</th>\n",
       "      <td>Lloyd Cole</td>\n",
       "      <td>Seen The Future</td>\n",
       "      <td>i freed my mind in the oxygen tent sold my ass...</td>\n",
       "    </tr>\n",
       "  </tbody>\n",
       "</table>\n",
       "</div>"
      ],
      "text/plain": [
       "              artist                          song  \\\n",
       "4886     Moody Blues  House Of Four Doors (Part 2)   \n",
       "2203   Grateful Dead                    Revolution   \n",
       "4223    Van Morrison                 Enlightenment   \n",
       "445    Nat King Cole                  Night Lights   \n",
       "4955            Ween           Cold Blows The Wind   \n",
       "3462  Marilyn Manson            Unkillable Monster   \n",
       "5187     Pat Benatar                  All Fired Up   \n",
       "3710     Rod Stewart                 Italian Girls   \n",
       "5132        Coldplay                 Charlie Brown   \n",
       "683       Lloyd Cole               Seen The Future   \n",
       "\n",
       "                                                   text  \n",
       "4886  walk thru that door outsid we came nowher at a...  \n",
       "2203  you say you want a revolut , well you know , w...  \n",
       "4223  chop that wood carri water what 's the sound o...  \n",
       "445   night light , those blues-in-the-night light a...  \n",
       "4955  cold blow the wind over my true love cold blow...  \n",
       "3462  how the fuck are we suppos to know when i 'm a...  \n",
       "5187  livin ' with my eye close , goin ' day to day ...  \n",
       "3710  at the turin motor show i wa dream of a mobil ...  \n",
       "5132  stole a key took a car downtown where the lost...  \n",
       "683   i freed my mind in the oxygen tent sold my ass...  "
      ]
     },
     "execution_count": 20,
     "metadata": {},
     "output_type": "execute_result"
    }
   ],
   "source": [
    "data.sample(10)"
   ]
  },
  {
   "cell_type": "code",
   "execution_count": 21,
   "id": "36233069",
   "metadata": {},
   "outputs": [
    {
     "data": {
      "text/plain": [
       "['L.A. Connection', 'Integral', \"Don't Fence Me In\", 'Lies', 'Walls']"
      ]
     },
     "execution_count": 21,
     "metadata": {},
     "output_type": "execute_result"
    }
   ],
   "source": [
    "recommed(\"Numb\")"
   ]
  },
  {
   "cell_type": "code",
   "execution_count": 25,
   "id": "58a8ec4e",
   "metadata": {},
   "outputs": [],
   "source": [
    "import pickle\n",
    "pickle.dump(similarity, open(\"similarity.pkl\",\"wb\"))"
   ]
  },
  {
   "cell_type": "code",
   "execution_count": 27,
   "id": "47044817",
   "metadata": {},
   "outputs": [],
   "source": [
    "pickle.dump(data, open(\"data.pkl\", \"wb\"))"
   ]
  },
  {
   "cell_type": "code",
   "execution_count": null,
   "id": "df0dbaf5",
   "metadata": {},
   "outputs": [],
   "source": []
  }
 ],
 "metadata": {
  "kernelspec": {
   "display_name": "Python 3 (ipykernel)",
   "language": "python",
   "name": "python3"
  },
  "language_info": {
   "codemirror_mode": {
    "name": "ipython",
    "version": 3
   },
   "file_extension": ".py",
   "mimetype": "text/x-python",
   "name": "python",
   "nbconvert_exporter": "python",
   "pygments_lexer": "ipython3",
   "version": "3.12.4"
  }
 },
 "nbformat": 4,
 "nbformat_minor": 5
}
